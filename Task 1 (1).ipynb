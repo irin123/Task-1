{
 "cells": [
  {
   "cell_type": "code",
   "execution_count": 1,
   "id": "baaa7513",
   "metadata": {},
   "outputs": [],
   "source": [
    "import pandas as pd\n",
    "import numpy as np\n",
    "import seaborn as sns\n",
    "import matplotlib.pyplot as plt\n",
    "import warnings\n",
    "warnings.filterwarnings('ignore')"
   ]
  },
  {
   "cell_type": "code",
   "execution_count": 2,
   "id": "11779c4c",
   "metadata": {},
   "outputs": [],
   "source": [
    "df1=pd.read_csv('Records Matching Task.xlsx - data1.csv')\n",
    "df2=pd.read_csv('Records Matching Task.xlsx - data2.csv')"
   ]
  },
  {
   "cell_type": "code",
   "execution_count": 3,
   "id": "e00b385a",
   "metadata": {},
   "outputs": [
    {
     "data": {
      "text/html": [
       "<div>\n",
       "<style scoped>\n",
       "    .dataframe tbody tr th:only-of-type {\n",
       "        vertical-align: middle;\n",
       "    }\n",
       "\n",
       "    .dataframe tbody tr th {\n",
       "        vertical-align: top;\n",
       "    }\n",
       "\n",
       "    .dataframe thead th {\n",
       "        text-align: right;\n",
       "    }\n",
       "</style>\n",
       "<table border=\"1\" class=\"dataframe\">\n",
       "  <thead>\n",
       "    <tr style=\"text-align: right;\">\n",
       "      <th></th>\n",
       "      <th>Order ID</th>\n",
       "      <th>Product ID</th>\n",
       "      <th>Qty</th>\n",
       "    </tr>\n",
       "  </thead>\n",
       "  <tbody>\n",
       "    <tr>\n",
       "      <th>0</th>\n",
       "      <td>CA-2014-100006</td>\n",
       "      <td>TEC-PH-10002075</td>\n",
       "      <td>3</td>\n",
       "    </tr>\n",
       "    <tr>\n",
       "      <th>1</th>\n",
       "      <td>CA-2014-100090</td>\n",
       "      <td>FUR-TA-10003715</td>\n",
       "      <td>3</td>\n",
       "    </tr>\n",
       "    <tr>\n",
       "      <th>2</th>\n",
       "      <td>CA-2014-100090</td>\n",
       "      <td>OFF-BI-10001597</td>\n",
       "      <td>6</td>\n",
       "    </tr>\n",
       "    <tr>\n",
       "      <th>3</th>\n",
       "      <td>CA-2014-100293</td>\n",
       "      <td>OFF-PA-10000176</td>\n",
       "      <td>6</td>\n",
       "    </tr>\n",
       "    <tr>\n",
       "      <th>4</th>\n",
       "      <td>CA-2014-100328</td>\n",
       "      <td>OFF-BI-10000343</td>\n",
       "      <td>1</td>\n",
       "    </tr>\n",
       "  </tbody>\n",
       "</table>\n",
       "</div>"
      ],
      "text/plain": [
       "         Order ID       Product ID  Qty\n",
       "0  CA-2014-100006  TEC-PH-10002075    3\n",
       "1  CA-2014-100090  FUR-TA-10003715    3\n",
       "2  CA-2014-100090  OFF-BI-10001597    6\n",
       "3  CA-2014-100293  OFF-PA-10000176    6\n",
       "4  CA-2014-100328  OFF-BI-10000343    1"
      ]
     },
     "execution_count": 3,
     "metadata": {},
     "output_type": "execute_result"
    }
   ],
   "source": [
    "df1.head()"
   ]
  },
  {
   "cell_type": "code",
   "execution_count": 4,
   "id": "7c193856",
   "metadata": {},
   "outputs": [
    {
     "data": {
      "text/html": [
       "<div>\n",
       "<style scoped>\n",
       "    .dataframe tbody tr th:only-of-type {\n",
       "        vertical-align: middle;\n",
       "    }\n",
       "\n",
       "    .dataframe tbody tr th {\n",
       "        vertical-align: top;\n",
       "    }\n",
       "\n",
       "    .dataframe thead th {\n",
       "        text-align: right;\n",
       "    }\n",
       "</style>\n",
       "<table border=\"1\" class=\"dataframe\">\n",
       "  <thead>\n",
       "    <tr style=\"text-align: right;\">\n",
       "      <th></th>\n",
       "      <th>Order ID</th>\n",
       "      <th>Product ID</th>\n",
       "      <th>Qty</th>\n",
       "    </tr>\n",
       "  </thead>\n",
       "  <tbody>\n",
       "    <tr>\n",
       "      <th>0</th>\n",
       "      <td>CA-2014-100090</td>\n",
       "      <td>FUR-TA-10003715</td>\n",
       "      <td>3</td>\n",
       "    </tr>\n",
       "    <tr>\n",
       "      <th>1</th>\n",
       "      <td>CA-2014-100090</td>\n",
       "      <td>OFF-BI-10001597</td>\n",
       "      <td>6</td>\n",
       "    </tr>\n",
       "    <tr>\n",
       "      <th>2</th>\n",
       "      <td>CA-2014-100293</td>\n",
       "      <td>OFF-PA-10000176</td>\n",
       "      <td>6</td>\n",
       "    </tr>\n",
       "    <tr>\n",
       "      <th>3</th>\n",
       "      <td>CA-2014-100328</td>\n",
       "      <td>OFF-BI-10000343</td>\n",
       "      <td>1</td>\n",
       "    </tr>\n",
       "    <tr>\n",
       "      <th>4</th>\n",
       "      <td>CA-2014-100363</td>\n",
       "      <td>OFF-FA-10000611</td>\n",
       "      <td>2</td>\n",
       "    </tr>\n",
       "  </tbody>\n",
       "</table>\n",
       "</div>"
      ],
      "text/plain": [
       "         Order ID       Product ID  Qty\n",
       "0  CA-2014-100090  FUR-TA-10003715    3\n",
       "1  CA-2014-100090  OFF-BI-10001597    6\n",
       "2  CA-2014-100293  OFF-PA-10000176    6\n",
       "3  CA-2014-100328  OFF-BI-10000343    1\n",
       "4  CA-2014-100363  OFF-FA-10000611    2"
      ]
     },
     "execution_count": 4,
     "metadata": {},
     "output_type": "execute_result"
    }
   ],
   "source": [
    "df2.head()"
   ]
  },
  {
   "cell_type": "code",
   "execution_count": 5,
   "id": "9a3c04ee",
   "metadata": {},
   "outputs": [
    {
     "data": {
      "text/plain": [
       "Order ID      object\n",
       "Product ID    object\n",
       "Qty            int64\n",
       "dtype: object"
      ]
     },
     "execution_count": 5,
     "metadata": {},
     "output_type": "execute_result"
    }
   ],
   "source": [
    "df1.dtypes"
   ]
  },
  {
   "cell_type": "code",
   "execution_count": 6,
   "id": "61d434e3",
   "metadata": {},
   "outputs": [
    {
     "data": {
      "text/plain": [
       "Order ID      object\n",
       "Product ID    object\n",
       "Qty            int64\n",
       "dtype: object"
      ]
     },
     "execution_count": 6,
     "metadata": {},
     "output_type": "execute_result"
    }
   ],
   "source": [
    "df2.dtypes"
   ]
  },
  {
   "cell_type": "code",
   "execution_count": 7,
   "id": "61f77995",
   "metadata": {},
   "outputs": [
    {
     "data": {
      "text/plain": [
       "Index(['Order ID', 'Product ID', 'Qty'], dtype='object')"
      ]
     },
     "execution_count": 7,
     "metadata": {},
     "output_type": "execute_result"
    }
   ],
   "source": [
    "df1.columns"
   ]
  },
  {
   "cell_type": "code",
   "execution_count": 8,
   "id": "d01d275e",
   "metadata": {},
   "outputs": [
    {
     "data": {
      "text/plain": [
       "(9478, 3)"
      ]
     },
     "execution_count": 8,
     "metadata": {},
     "output_type": "execute_result"
    }
   ],
   "source": [
    "df1.shape"
   ]
  },
  {
   "cell_type": "code",
   "execution_count": 9,
   "id": "2e7f07ab",
   "metadata": {},
   "outputs": [
    {
     "data": {
      "text/plain": [
       "(9479, 3)"
      ]
     },
     "execution_count": 9,
     "metadata": {},
     "output_type": "execute_result"
    }
   ],
   "source": [
    "df2.shape"
   ]
  },
  {
   "cell_type": "code",
   "execution_count": 10,
   "id": "25e7b8c6",
   "metadata": {},
   "outputs": [
    {
     "data": {
      "text/html": [
       "<div>\n",
       "<style scoped>\n",
       "    .dataframe tbody tr th:only-of-type {\n",
       "        vertical-align: middle;\n",
       "    }\n",
       "\n",
       "    .dataframe tbody tr th {\n",
       "        vertical-align: top;\n",
       "    }\n",
       "\n",
       "    .dataframe thead th {\n",
       "        text-align: right;\n",
       "    }\n",
       "</style>\n",
       "<table border=\"1\" class=\"dataframe\">\n",
       "  <thead>\n",
       "    <tr style=\"text-align: right;\">\n",
       "      <th></th>\n",
       "      <th>Qty</th>\n",
       "    </tr>\n",
       "  </thead>\n",
       "  <tbody>\n",
       "    <tr>\n",
       "      <th>count</th>\n",
       "      <td>9478.000000</td>\n",
       "    </tr>\n",
       "    <tr>\n",
       "      <th>mean</th>\n",
       "      <td>3.789513</td>\n",
       "    </tr>\n",
       "    <tr>\n",
       "      <th>std</th>\n",
       "      <td>2.231866</td>\n",
       "    </tr>\n",
       "    <tr>\n",
       "      <th>min</th>\n",
       "      <td>1.000000</td>\n",
       "    </tr>\n",
       "    <tr>\n",
       "      <th>25%</th>\n",
       "      <td>2.000000</td>\n",
       "    </tr>\n",
       "    <tr>\n",
       "      <th>50%</th>\n",
       "      <td>3.000000</td>\n",
       "    </tr>\n",
       "    <tr>\n",
       "      <th>75%</th>\n",
       "      <td>5.000000</td>\n",
       "    </tr>\n",
       "    <tr>\n",
       "      <th>max</th>\n",
       "      <td>16.000000</td>\n",
       "    </tr>\n",
       "  </tbody>\n",
       "</table>\n",
       "</div>"
      ],
      "text/plain": [
       "               Qty\n",
       "count  9478.000000\n",
       "mean      3.789513\n",
       "std       2.231866\n",
       "min       1.000000\n",
       "25%       2.000000\n",
       "50%       3.000000\n",
       "75%       5.000000\n",
       "max      16.000000"
      ]
     },
     "execution_count": 10,
     "metadata": {},
     "output_type": "execute_result"
    }
   ],
   "source": [
    "df1.describe()"
   ]
  },
  {
   "cell_type": "raw",
   "id": "17d8acba",
   "metadata": {},
   "source": [
    " To apply analysis, I removed whitespace between Product ID and Order ID by renaming the column as Product_ID and Order_ID respectively\n",
    "\n"
   ]
  },
  {
   "cell_type": "code",
   "execution_count": 11,
   "id": "77224b9f",
   "metadata": {},
   "outputs": [],
   "source": [
    "#renaming the Columns\n",
    "df1.rename(columns={'Order ID': 'Order_ID', 'Product ID': 'Product_ID'}, inplace=True)\n",
    "df2.rename(columns={'Order ID': 'Order_ID', 'Product ID': 'Product_ID'}, inplace=True)"
   ]
  },
  {
   "cell_type": "raw",
   "id": "8bf65822",
   "metadata": {},
   "source": [
    "Combined Order_ID and Product_ID as they both are primary keys and make a new column as “Records” which is new Primary key for the datasets\n",
    "\n"
   ]
  },
  {
   "cell_type": "code",
   "execution_count": 12,
   "id": "5f7c1e13",
   "metadata": {},
   "outputs": [],
   "source": [
    "#concatenating Primary Keys 'Order_ID' and 'Product_ID' into one key 'Records'\n",
    "cols = ['Order_ID','Product_ID']\n",
    "df1['Records'] = df1[cols].apply(lambda row: '_'.join(row.values.astype(str)), axis=1)\n",
    "df2['Records'] = df2[cols].apply(lambda row: '_'.join(row.values.astype(str)), axis=1)\n"
   ]
  },
  {
   "cell_type": "code",
   "execution_count": 13,
   "id": "e09e64f0",
   "metadata": {},
   "outputs": [
    {
     "data": {
      "text/html": [
       "<div>\n",
       "<style scoped>\n",
       "    .dataframe tbody tr th:only-of-type {\n",
       "        vertical-align: middle;\n",
       "    }\n",
       "\n",
       "    .dataframe tbody tr th {\n",
       "        vertical-align: top;\n",
       "    }\n",
       "\n",
       "    .dataframe thead th {\n",
       "        text-align: right;\n",
       "    }\n",
       "</style>\n",
       "<table border=\"1\" class=\"dataframe\">\n",
       "  <thead>\n",
       "    <tr style=\"text-align: right;\">\n",
       "      <th></th>\n",
       "      <th>Order_ID</th>\n",
       "      <th>Product_ID</th>\n",
       "      <th>Qty</th>\n",
       "      <th>Records</th>\n",
       "    </tr>\n",
       "  </thead>\n",
       "  <tbody>\n",
       "    <tr>\n",
       "      <th>0</th>\n",
       "      <td>CA-2014-100006</td>\n",
       "      <td>TEC-PH-10002075</td>\n",
       "      <td>3</td>\n",
       "      <td>CA-2014-100006_TEC-PH-10002075</td>\n",
       "    </tr>\n",
       "    <tr>\n",
       "      <th>1</th>\n",
       "      <td>CA-2014-100090</td>\n",
       "      <td>FUR-TA-10003715</td>\n",
       "      <td>3</td>\n",
       "      <td>CA-2014-100090_FUR-TA-10003715</td>\n",
       "    </tr>\n",
       "    <tr>\n",
       "      <th>2</th>\n",
       "      <td>CA-2014-100090</td>\n",
       "      <td>OFF-BI-10001597</td>\n",
       "      <td>6</td>\n",
       "      <td>CA-2014-100090_OFF-BI-10001597</td>\n",
       "    </tr>\n",
       "    <tr>\n",
       "      <th>3</th>\n",
       "      <td>CA-2014-100293</td>\n",
       "      <td>OFF-PA-10000176</td>\n",
       "      <td>6</td>\n",
       "      <td>CA-2014-100293_OFF-PA-10000176</td>\n",
       "    </tr>\n",
       "    <tr>\n",
       "      <th>4</th>\n",
       "      <td>CA-2014-100328</td>\n",
       "      <td>OFF-BI-10000343</td>\n",
       "      <td>1</td>\n",
       "      <td>CA-2014-100328_OFF-BI-10000343</td>\n",
       "    </tr>\n",
       "  </tbody>\n",
       "</table>\n",
       "</div>"
      ],
      "text/plain": [
       "         Order_ID       Product_ID  Qty                         Records\n",
       "0  CA-2014-100006  TEC-PH-10002075    3  CA-2014-100006_TEC-PH-10002075\n",
       "1  CA-2014-100090  FUR-TA-10003715    3  CA-2014-100090_FUR-TA-10003715\n",
       "2  CA-2014-100090  OFF-BI-10001597    6  CA-2014-100090_OFF-BI-10001597\n",
       "3  CA-2014-100293  OFF-PA-10000176    6  CA-2014-100293_OFF-PA-10000176\n",
       "4  CA-2014-100328  OFF-BI-10000343    1  CA-2014-100328_OFF-BI-10000343"
      ]
     },
     "execution_count": 13,
     "metadata": {},
     "output_type": "execute_result"
    }
   ],
   "source": [
    "#checking whether data manipulation done correctly in data1\n",
    "df1.head()"
   ]
  },
  {
   "cell_type": "code",
   "execution_count": 14,
   "id": "1ea011f3",
   "metadata": {},
   "outputs": [
    {
     "data": {
      "text/html": [
       "<div>\n",
       "<style scoped>\n",
       "    .dataframe tbody tr th:only-of-type {\n",
       "        vertical-align: middle;\n",
       "    }\n",
       "\n",
       "    .dataframe tbody tr th {\n",
       "        vertical-align: top;\n",
       "    }\n",
       "\n",
       "    .dataframe thead th {\n",
       "        text-align: right;\n",
       "    }\n",
       "</style>\n",
       "<table border=\"1\" class=\"dataframe\">\n",
       "  <thead>\n",
       "    <tr style=\"text-align: right;\">\n",
       "      <th></th>\n",
       "      <th>Order_ID</th>\n",
       "      <th>Product_ID</th>\n",
       "      <th>Qty</th>\n",
       "      <th>Records</th>\n",
       "    </tr>\n",
       "  </thead>\n",
       "  <tbody>\n",
       "    <tr>\n",
       "      <th>0</th>\n",
       "      <td>CA-2014-100090</td>\n",
       "      <td>FUR-TA-10003715</td>\n",
       "      <td>3</td>\n",
       "      <td>CA-2014-100090_FUR-TA-10003715</td>\n",
       "    </tr>\n",
       "    <tr>\n",
       "      <th>1</th>\n",
       "      <td>CA-2014-100090</td>\n",
       "      <td>OFF-BI-10001597</td>\n",
       "      <td>6</td>\n",
       "      <td>CA-2014-100090_OFF-BI-10001597</td>\n",
       "    </tr>\n",
       "    <tr>\n",
       "      <th>2</th>\n",
       "      <td>CA-2014-100293</td>\n",
       "      <td>OFF-PA-10000176</td>\n",
       "      <td>6</td>\n",
       "      <td>CA-2014-100293_OFF-PA-10000176</td>\n",
       "    </tr>\n",
       "    <tr>\n",
       "      <th>3</th>\n",
       "      <td>CA-2014-100328</td>\n",
       "      <td>OFF-BI-10000343</td>\n",
       "      <td>1</td>\n",
       "      <td>CA-2014-100328_OFF-BI-10000343</td>\n",
       "    </tr>\n",
       "    <tr>\n",
       "      <th>4</th>\n",
       "      <td>CA-2014-100363</td>\n",
       "      <td>OFF-FA-10000611</td>\n",
       "      <td>2</td>\n",
       "      <td>CA-2014-100363_OFF-FA-10000611</td>\n",
       "    </tr>\n",
       "  </tbody>\n",
       "</table>\n",
       "</div>"
      ],
      "text/plain": [
       "         Order_ID       Product_ID  Qty                         Records\n",
       "0  CA-2014-100090  FUR-TA-10003715    3  CA-2014-100090_FUR-TA-10003715\n",
       "1  CA-2014-100090  OFF-BI-10001597    6  CA-2014-100090_OFF-BI-10001597\n",
       "2  CA-2014-100293  OFF-PA-10000176    6  CA-2014-100293_OFF-PA-10000176\n",
       "3  CA-2014-100328  OFF-BI-10000343    1  CA-2014-100328_OFF-BI-10000343\n",
       "4  CA-2014-100363  OFF-FA-10000611    2  CA-2014-100363_OFF-FA-10000611"
      ]
     },
     "execution_count": 14,
     "metadata": {},
     "output_type": "execute_result"
    }
   ],
   "source": [
    "#checking whether data manipulation done correctly in data1\n",
    "df2.head()"
   ]
  },
  {
   "cell_type": "markdown",
   "id": "bfa93865",
   "metadata": {},
   "source": [
    "# 1) How to identify the Records (Order ID + Product ID combination) present in data1 but missing in data\n",
    "\n",
    "*(Specify the number of records missing in your answer*)"
   ]
  },
  {
   "cell_type": "code",
   "execution_count": 15,
   "id": "e4529f3d",
   "metadata": {},
   "outputs": [],
   "source": [
    "#appling set difference set(data1)-set(data2) to get data which is in data 1 but not in data 2\n",
    "#a contains the data which is only in data 1\n",
    "a = df1[df1.Records.isin(df2.Records) == False]"
   ]
  },
  {
   "cell_type": "code",
   "execution_count": 16,
   "id": "3bee8337",
   "metadata": {},
   "outputs": [
    {
     "name": "stdout",
     "output_type": "stream",
     "text": [
      "            Order_ID       Product_ID  Qty                         Records\n",
      "0     CA-2014-100006  TEC-PH-10002075    3  CA-2014-100006_TEC-PH-10002075\n",
      "10    CA-2014-100678  OFF-EN-10000056    3  CA-2014-100678_OFF-EN-10000056\n",
      "19    CA-2014-100895  OFF-AR-10004511    2  CA-2014-100895_OFF-AR-10004511\n",
      "35    CA-2014-101560  OFF-BI-10000309    3  CA-2014-101560_OFF-BI-10000309\n",
      "61    CA-2014-102673  OFF-LA-10001771   12  CA-2014-102673_OFF-LA-10001771\n",
      "...              ...              ...  ...                             ...\n",
      "9390  US-2017-160836  OFF-AP-10001626    2  US-2017-160836_OFF-AP-10001626\n",
      "9403  US-2017-162558  FUR-FU-10002364    2  US-2017-162558_FUR-FU-10002364\n",
      "9420  US-2017-163657  OFF-BI-10000138    5  US-2017-163657_OFF-BI-10000138\n",
      "9427  US-2017-164056  FUR-TA-10001307    5  US-2017-164056_FUR-TA-10001307\n",
      "9435  US-2017-165456  FUR-CH-10003981    6  US-2017-165456_FUR-CH-10003981\n",
      "\n",
      "[507 rows x 4 columns]\n"
     ]
    }
   ],
   "source": [
    "#printing 'a'\n",
    "print(a)"
   ]
  },
  {
   "cell_type": "code",
   "execution_count": 17,
   "id": "76e8da0f",
   "metadata": {},
   "outputs": [
    {
     "name": "stdout",
     "output_type": "stream",
     "text": [
      "507\n"
     ]
    }
   ],
   "source": [
    "#printing number of records which is in data 1 but not in data 2\n",
    "print(a.shape[0])\n"
   ]
  },
  {
   "cell_type": "markdown",
   "id": "b53ce292",
   "metadata": {},
   "source": [
    "# 2)How to identify the Records (Order ID + Product ID combination) present in data2 but missing in data1\n",
    "*(Specify the number of records missing in your answer)*\n"
   ]
  },
  {
   "cell_type": "code",
   "execution_count": 18,
   "id": "cd4a0331",
   "metadata": {},
   "outputs": [],
   "source": [
    "#appling set difference set(data2)-set(data1) to get data which is in data 2 but not in data 1\n",
    "#b contains the data which is only in data 2\n",
    "b = df2[df2.Records.isin(df1.Records) == False]"
   ]
  },
  {
   "cell_type": "code",
   "execution_count": 19,
   "id": "8ca06fe4",
   "metadata": {},
   "outputs": [
    {
     "name": "stdout",
     "output_type": "stream",
     "text": [
      "            Order_ID       Product_ID  Qty                         Records\n",
      "11    CA-2014-100706  TEC-AC-10001314    2  CA-2014-100706_TEC-AC-10001314\n",
      "14    CA-2014-100762  OFF-PA-10001815    3  CA-2014-100762_OFF-PA-10001815\n",
      "30    CA-2014-101427  OFF-AR-10002257    3  CA-2014-101427_OFF-AR-10002257\n",
      "56    CA-2014-102652  FUR-FU-10001918    7  CA-2014-102652_FUR-FU-10001918\n",
      "63    CA-2014-102869  OFF-PA-10000788    3  CA-2014-102869_OFF-PA-10000788\n",
      "...              ...              ...  ...                             ...\n",
      "9428  US-2017-165344  OFF-BI-10003196   10  US-2017-165344_OFF-BI-10003196\n",
      "9433  US-2017-165358  TEC-CO-10001943    5  US-2017-165358_TEC-CO-10001943\n",
      "9455  US-2017-167920  OFF-AP-10000159    5  US-2017-167920_OFF-AP-10000159\n",
      "9471  US-2017-169502  OFF-AP-10001947    5  US-2017-169502_OFF-AP-10001947\n",
      "9473  US-2017-169551  FUR-BO-10001519    3  US-2017-169551_FUR-BO-10001519\n",
      "\n",
      "[508 rows x 4 columns]\n"
     ]
    }
   ],
   "source": [
    "#printing 'b'\n",
    "print(b)"
   ]
  },
  {
   "cell_type": "code",
   "execution_count": 20,
   "id": "8757e77f",
   "metadata": {},
   "outputs": [
    {
     "name": "stdout",
     "output_type": "stream",
     "text": [
      "508\n"
     ]
    }
   ],
   "source": [
    "#printing number of records which is in data 2 but not in data 1\n",
    "print(b.shape[0])"
   ]
  },
  {
   "cell_type": "markdown",
   "id": "3fd7eafc",
   "metadata": {},
   "source": [
    "# 3)Find the Sum of the total Qty of Records missing in data1 but present in data2\n"
   ]
  },
  {
   "cell_type": "code",
   "execution_count": 21,
   "id": "5b4f8087",
   "metadata": {},
   "outputs": [
    {
     "name": "stdout",
     "output_type": "stream",
     "text": [
      "1956\n"
     ]
    }
   ],
   "source": [
    "#since 'b' dataframe gives the number of records present in data2 but not in data 1\n",
    "# sum of Quantities of 'b' dataframe \n",
    "print(b['Qty'].sum())\n"
   ]
  },
  {
   "cell_type": "markdown",
   "id": "e36b2c71",
   "metadata": {},
   "source": [
    "# 4)Find the total number of unique records (Order ID Product ID combination) present in the combined dataset of data1 and data2\n"
   ]
  },
  {
   "cell_type": "code",
   "execution_count": 23,
   "id": "dc058533",
   "metadata": {},
   "outputs": [
    {
     "name": "stdout",
     "output_type": "stream",
     "text": [
      "            Order_ID       Product_ID  Qty                         Records\n",
      "0     CA-2014-100006  TEC-PH-10002075    3  CA-2014-100006_TEC-PH-10002075\n",
      "10    CA-2014-100678  OFF-EN-10000056    3  CA-2014-100678_OFF-EN-10000056\n",
      "19    CA-2014-100895  OFF-AR-10004511    2  CA-2014-100895_OFF-AR-10004511\n",
      "35    CA-2014-101560  OFF-BI-10000309    3  CA-2014-101560_OFF-BI-10000309\n",
      "61    CA-2014-102673  OFF-LA-10001771   12  CA-2014-102673_OFF-LA-10001771\n",
      "...              ...              ...  ...                             ...\n",
      "9428  US-2017-165344  OFF-BI-10003196   10  US-2017-165344_OFF-BI-10003196\n",
      "9433  US-2017-165358  TEC-CO-10001943    5  US-2017-165358_TEC-CO-10001943\n",
      "9455  US-2017-167920  OFF-AP-10000159    5  US-2017-167920_OFF-AP-10000159\n",
      "9471  US-2017-169502  OFF-AP-10001947    5  US-2017-169502_OFF-AP-10001947\n",
      "9473  US-2017-169551  FUR-BO-10001519    3  US-2017-169551_FUR-BO-10001519\n",
      "\n",
      "[1015 rows x 4 columns]\n"
     ]
    }
   ],
   "source": [
    "# total number of unique records will get from sum of Set(data 1)-set(data 2) and Set(data 2)-set(data 1)\n",
    "# and intersection of set(data1)-set(data2)\n",
    "# so, appending dataframes 'a' and 'b' will gives the result\n",
    "append_ab = pd.concat([a, b])\n",
    "print(append_ab)\n"
   ]
  },
  {
   "cell_type": "code",
   "execution_count": 24,
   "id": "f0bc8967",
   "metadata": {},
   "outputs": [],
   "source": [
    "#finding intersection of data 1 and data2\n",
    "int_df = df1.merge(df2)"
   ]
  },
  {
   "cell_type": "code",
   "execution_count": 25,
   "id": "f42da053",
   "metadata": {},
   "outputs": [],
   "source": [
    "# and, appending dataframes 'int_df' and 'append_ab' will gives the result\n",
    "unq_df = pd.concat([int_df, append_ab])"
   ]
  },
  {
   "cell_type": "code",
   "execution_count": 26,
   "id": "11d3c1e3",
   "metadata": {},
   "outputs": [
    {
     "name": "stdout",
     "output_type": "stream",
     "text": [
      "            Order_ID       Product_ID  Qty                         Records\n",
      "0     CA-2014-100090  FUR-TA-10003715    3  CA-2014-100090_FUR-TA-10003715\n",
      "1     CA-2014-100090  OFF-BI-10001597    6  CA-2014-100090_OFF-BI-10001597\n",
      "2     CA-2014-100293  OFF-PA-10000176    6  CA-2014-100293_OFF-PA-10000176\n",
      "3     CA-2014-100328  OFF-BI-10000343    1  CA-2014-100328_OFF-BI-10000343\n",
      "4     CA-2014-100363  OFF-FA-10000611    2  CA-2014-100363_OFF-FA-10000611\n",
      "...              ...              ...  ...                             ...\n",
      "9428  US-2017-165344  OFF-BI-10003196   10  US-2017-165344_OFF-BI-10003196\n",
      "9433  US-2017-165358  TEC-CO-10001943    5  US-2017-165358_TEC-CO-10001943\n",
      "9455  US-2017-167920  OFF-AP-10000159    5  US-2017-167920_OFF-AP-10000159\n",
      "9471  US-2017-169502  OFF-AP-10001947    5  US-2017-169502_OFF-AP-10001947\n",
      "9473  US-2017-169551  FUR-BO-10001519    3  US-2017-169551_FUR-BO-10001519\n",
      "\n",
      "[9986 rows x 4 columns]\n"
     ]
    }
   ],
   "source": [
    "#printing 'unq_df'\n",
    "print(unq_df)"
   ]
  },
  {
   "cell_type": "code",
   "execution_count": 27,
   "id": "94c415fb",
   "metadata": {},
   "outputs": [
    {
     "name": "stdout",
     "output_type": "stream",
     "text": [
      "9986\n"
     ]
    }
   ],
   "source": [
    "# finding number of unique records in df1 and df2\n",
    "print(unq_df.shape[0])"
   ]
  },
  {
   "cell_type": "code",
   "execution_count": null,
   "id": "42f0ff83",
   "metadata": {},
   "outputs": [],
   "source": []
  }
 ],
 "metadata": {
  "kernelspec": {
   "display_name": "Python 3 (ipykernel)",
   "language": "python",
   "name": "python3"
  },
  "language_info": {
   "codemirror_mode": {
    "name": "ipython",
    "version": 3
   },
   "file_extension": ".py",
   "mimetype": "text/x-python",
   "name": "python",
   "nbconvert_exporter": "python",
   "pygments_lexer": "ipython3",
   "version": "3.9.12"
  }
 },
 "nbformat": 4,
 "nbformat_minor": 5
}
